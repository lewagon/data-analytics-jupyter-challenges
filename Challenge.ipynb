{
 "cells": [
  {
   "cell_type": "markdown",
   "metadata": {},
   "source": [
    "# Python Foundations for Data Science 🤓"
   ]
  },
  {
   "cell_type": "markdown",
   "metadata": {},
   "source": [
    "### Welcome to the Jupyter Notebook! How to use this file? 🤔\n",
    "\n",
    "* Type inside the empty cells to write code. These empty cells will have a `In [ ]:` prefix before\n",
    "* Press the `return/enter ⏎` key to add a new line inside the cell\n",
    "* To display your results use the Python built in `print(STUFF_YOU_WANT_TO_PRINT)` method or simply put the stuff you want to print as the last line inside the cell. The result of the last line will appear as the `Out[]:` or the output of the cell :)\n",
    "* Press `shift` + `return/enter ⏎` to run your code 🤓 this will run the code inside your currently selected cell and print anything inside `print()` method and the last line of your cell\n",
    "* To add a new cell, select any cell and press the `b` key (make sure you are not just typing the letter `b` in the cell). This will add a new cell below\n",
    "* To delete a cell, double press the `d` key (make sure you are not just typing the letter `d` in the cell)\n",
    "\n",
    "#### Try to run the code below! 😃"
   ]
  },
  {
   "cell_type": "code",
   "execution_count": null,
   "metadata": {},
   "outputs": [],
   "source": [
    "print(\"Welcome to the Python workshop of Le Wagon!\")\n",
    "print(\"Are you ready to do your first data analysis?\")\n",
    "\"Yes we are! 🚀\""
   ]
  },
  {
   "cell_type": "markdown",
   "metadata": {},
   "source": [
    "---\n",
    "# Data Science - Analysis 🧮"
   ]
  },
  {
   "cell_type": "markdown",
   "metadata": {},
   "source": [
    "### First of all - what are we using? 🔨"
   ]
  },
  {
   "cell_type": "markdown",
   "metadata": {},
   "source": [
    "[Jupyter Notebook](https://jupyter.org) is an open-source web application which allows you to create and share documents with code, visualizations and narrative. Which is what we are doing right now! "
   ]
  },
  {
   "cell_type": "markdown",
   "metadata": {},
   "source": [
    "[Numpy](https://www.numpy.org) fundamental package for scientific computing in Python."
   ]
  },
  {
   "cell_type": "markdown",
   "metadata": {},
   "source": [
    "[Pandas](https://pandas.pydata.org) is an open-source library providing easy to use data structuring and analytics for Python. "
   ]
  },
  {
   "cell_type": "markdown",
   "metadata": {},
   "source": [
    "### So this is how every Jupyter notebook starts..."
   ]
  },
  {
   "cell_type": "code",
   "execution_count": null,
   "metadata": {},
   "outputs": [],
   "source": [
    "import numpy as np\n",
    "import pandas as pd\n",
    "%matplotlib inline\n",
    "import matplotlib\n",
    "print(\"You are good to go!\")"
   ]
  },
  {
   "cell_type": "markdown",
   "metadata": {},
   "source": [
    "### Python and Pandas is great for reading data files, like CSV"
   ]
  },
  {
   "cell_type": "code",
   "execution_count": null,
   "metadata": {
    "scrolled": true
   },
   "outputs": [],
   "source": [
    "file = \"data/countries.csv\"\n",
    "df = pd.read_csv(file, decimal=\",\")\n",
    "# no need to use print() when we want to see DataFrames, simply put what you want to see on the last line\n",
    "df"
   ]
  },
  {
   "cell_type": "markdown",
   "metadata": {},
   "source": [
    "---\n",
    "### We can then have a quick look at our `DataFrame` 🗺\n",
    "\n",
    "❓ Display the 10 first rows of the dataset (no need to sort)\n",
    "\n",
    "<details>\n",
    "    <summary>🙈 Reveal hint</summary>\n",
    "\n",
    "<p>\n",
    "You can use the <a href=\"https://pandas.pydata.org/pandas-docs/stable/reference/api/pandas.DataFrame.head.html\"><code>pandas.DataFrame.head()</code></a> method.\n",
    "</p>\n",
    "</details>\n",
    "\n",
    "<details>\n",
    "    <summary>🙈 Reveal solution</summary>\n",
    "\n",
    "<pre>\n",
    "df.head(10)\n",
    "</pre>\n",
    "</details>"
   ]
  },
  {
   "cell_type": "code",
   "execution_count": null,
   "metadata": {},
   "outputs": [],
   "source": [
    "# Your code here"
   ]
  },
  {
   "cell_type": "markdown",
   "metadata": {},
   "source": [
    "---\n",
    "❓ What are the countries with more than one billion (10^9) inhabitants?\n",
    "\n",
    "<details>\n",
    "    <summary>🙈 Reveal hint</summary>\n",
    "\n",
    "<p>\n",
    "You can use the <a href=\"https://pandas.pydata.org/docs/user_guide/indexing.html#boolean-indexing\"><code>boolean indexing</code></a> to filter the rows of your dataframe.\n",
    "</p>\n",
    "</details>\n",
    "\n",
    "<details>\n",
    "    <summary>🙈 Reveal solution</summary>\n",
    "<pre>\n",
    "big_population = df['Population'] > 1000000000\n",
    "df[big_population]\n",
    "</pre>\n",
    "</details>"
   ]
  },
  {
   "cell_type": "code",
   "execution_count": null,
   "metadata": {},
   "outputs": [],
   "source": [
    "# Your code here"
   ]
  },
  {
   "cell_type": "markdown",
   "metadata": {},
   "source": [
    "---\n",
    "❓ What are the available regions?\n",
    "\n",
    "<details>\n",
    "    <summary>🙈 Reveal hint</summary>\n",
    "<p>\n",
    "You can use the <a href=\"https://pandas.pydata.org/pandas-docs/stable/reference/api/pandas.Series.unique.html\"><code>pandas.Series.unique()</code></a> method combiend with the <code>len()</code> Python built-in function.\n",
    "</p>\n",
    "</details>\n",
    "\n",
    "<details>\n",
    "    <summary>🙈 Reveal solution</summary>\n",
    "<pre>\n",
    "len(df['Region'].unique())\n",
    "</pre>\n",
    "</details>"
   ]
  },
  {
   "cell_type": "code",
   "execution_count": null,
   "metadata": {},
   "outputs": [],
   "source": [
    "# Your code here"
   ]
  },
  {
   "cell_type": "markdown",
   "metadata": {},
   "source": [
    "---\n",
    "❓ What are the 5 countries with the biggest GDP?\n",
    "\n",
    "<details>\n",
    "    <summary>🙈 Reveal hint</summary>\n",
    "\n",
    "<p>\n",
    "You can use the <a href=\"https://pandas.pydata.org/docs/reference/api/pandas.DataFrame.sort_values.html\"><code>pandas.DataFrame.sort_values()</code></a> method to order rows of your dataframe based on a criteria (or several).\n",
    "</p>\n",
    "</details>\n",
    "\n",
    "<details>\n",
    "    <summary>🙈 Reveal solution</summary>\n",
    "\n",
    "<p>\n",
    "You can use the <a href=\"https://pandas.pydata.org/docs/reference/api/pandas.DataFrame.head.html\"><code>pandas.DataFrame.head()</code></a> method to limit the number of rows displaied:\n",
    "    \n",
    "<pre>\n",
    "df.sort_values(by='GDP ($ per capita)', na_position='first').head()\n",
    "</pre>\n",
    "</p>\n",
    "</details>"
   ]
  },
  {
   "cell_type": "code",
   "execution_count": null,
   "metadata": {},
   "outputs": [],
   "source": [
    "# Your code here"
   ]
  },
  {
   "cell_type": "markdown",
   "metadata": {},
   "source": [
    "---\n",
    "❓ Which region of the world is the most populated?\n",
    "\n",
    "<details>\n",
    "    <summary>🙈 Reveal hint</summary>\n",
    "\n",
    "<p>\n",
    "You can use the <a href=\"https://pandas.pydata.org/docs/reference/api/pandas.DataFrame.groupby.html\"><code>pandas.DataFrame.groupby()</code></a> method to aggregate rows of your dataframe based on a criteria (or several).\n",
    "</p>\n",
    "</details>\n",
    "\n",
    "<details>\n",
    "    <summary>🙈 Reveal solution</summary>\n",
    "    \n",
    "<pre>\n",
    "regions = df.groupby('Region')\n",
    "regions[['Population', 'Area (sq. mi.)']].sum()\n",
    "</pre>\n",
    "</details>"
   ]
  },
  {
   "cell_type": "code",
   "execution_count": null,
   "metadata": {},
   "outputs": [],
   "source": [
    "# Your code here"
   ]
  },
  {
   "cell_type": "markdown",
   "metadata": {},
   "source": [
    "---\n",
    "❓ Plot the GDP of the 10 richest countries?\n",
    "\n",
    "<details>\n",
    "    <summary>🙈 Reveal hint</summary>\n",
    "\n",
    "<p>\n",
    "Reuse what you did previously to retrieve the richest countries previously then plot it with <a href=\"https://pandas.pydata.org/docs/reference/api/pandas.DataFrame.plot.html\"><code>pandas.DataFrame.plot()</code></a>.\n",
    "</p>\n",
    "</details>\n",
    "\n",
    "<details>\n",
    "    <summary>🙈 Reveal hint</summary>\n",
    "\n",
    "<p>\n",
    "You can use the <a href=\"https://pandas.pydata.org/docs/reference/api/pandas.DataFrame.set_index.html\"><code>pandas.DataFrame.set_index()</code></a> method to annotate the rows with one of the column of the dataframe.\n",
    "</p>\n",
    "</details>\n",
    "\n",
    "<details>\n",
    "    <summary>🙈 Reveal solution</summary>\n",
    "    \n",
    "<pre>\n",
    "column = 'GDP ($ per capita)'\n",
    "df = df.set_index('Country')\n",
    "top_ten_countries_df = df[[column]].sort_values(by=column, ascending=False).head(10)\n",
    "top_ten_countries_df.plot(kind='bar')\n",
    "</pre>\n",
    "</details>"
   ]
  },
  {
   "cell_type": "code",
   "execution_count": null,
   "metadata": {},
   "outputs": [],
   "source": [
    "# Your code here"
   ]
  }
 ],
 "metadata": {
  "kernelspec": {
   "display_name": "Python 3 (ipykernel)",
   "language": "python",
   "name": "python3"
  },
  "language_info": {
   "codemirror_mode": {
    "name": "ipython",
    "version": 3
   },
   "file_extension": ".py",
   "mimetype": "text/x-python",
   "name": "python",
   "nbconvert_exporter": "python",
   "pygments_lexer": "ipython3",
   "version": "3.9.6"
  }
 },
 "nbformat": 4,
 "nbformat_minor": 4
}
